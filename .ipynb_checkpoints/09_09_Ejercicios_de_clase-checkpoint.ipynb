{
 "cells": [
  {
   "cell_type": "code",
   "execution_count": 1,
   "id": "be8126f9-ffbb-406b-b5c1-e02b33501482",
   "metadata": {},
   "outputs": [],
   "source": [
    "import matplotlib.pyplot as plt\n",
    "import numpy as np\n",
    "import mglearn\n",
    "from sklearn.model_selection import train_test_split"
   ]
  },
  {
   "cell_type": "code",
   "execution_count": 6,
   "id": "758d2aa4-47c1-4e95-b445-11ac6161017e",
   "metadata": {},
   "outputs": [
    {
     "data": {
      "text/plain": [
       "dict_keys(['data', 'target', 'feature_names', 'DESCR', 'filename'])"
      ]
     },
     "execution_count": 6,
     "metadata": {},
     "output_type": "execute_result"
    }
   ],
   "source": [
    "boston = mglearn.datasets.load_boston()\n",
    "boston.keys()"
   ]
  },
  {
   "cell_type": "code",
   "execution_count": 4,
   "id": "4fbf1f5f-1b7d-4914-8a2a-ee66e9d7e928",
   "metadata": {},
   "outputs": [],
   "source": [
    "from sklearn.neighbors import KNeighborsRegressor"
   ]
  },
  {
   "cell_type": "code",
   "execution_count": 7,
   "id": "e7df4470-60be-4984-9fe9-0a57ceaa2571",
   "metadata": {},
   "outputs": [],
   "source": [
    "X_train, X_test, y_train, y_test = train_test_split(boston['data'],boston['target'], random_state=2)"
   ]
  },
  {
   "cell_type": "code",
   "execution_count": 14,
   "id": "29a85f89-a598-4ed3-8ee1-3eda332f76ad",
   "metadata": {},
   "outputs": [],
   "source": [
    "reg = KNeighborsRegressor(n_neighbors=5)"
   ]
  },
  {
   "cell_type": "code",
   "execution_count": 15,
   "id": "d06de406-f076-4191-a129-89f566ae724b",
   "metadata": {},
   "outputs": [
    {
     "data": {
      "text/plain": [
       "KNeighborsRegressor()"
      ]
     },
     "execution_count": 15,
     "metadata": {},
     "output_type": "execute_result"
    }
   ],
   "source": [
    "reg.fit(X_train, y_train)"
   ]
  },
  {
   "cell_type": "code",
   "execution_count": 16,
   "id": "4bdef013-e0ab-4a0e-8d8a-9c36978af243",
   "metadata": {},
   "outputs": [
    {
     "name": "stdout",
     "output_type": "stream",
     "text": [
      "Test set predictions:\n",
      "[19.14 19.88 33.76 31.02 14.96 15.88 21.84 26.58 11.08 37.78 24.38 22.2\n",
      " 27.02 26.92 12.28 21.06 17.3  12.9  10.96 13.84 23.28 19.86 41.34 19.64\n",
      " 16.24 21.88 42.92 24.44 37.44 22.   16.06 20.22 33.26 27.56 11.2  18.26\n",
      " 11.58 17.5  23.36 21.84 26.24 15.86 23.62 10.96 22.74 15.32 30.6  12.66\n",
      " 41.34 10.96 23.5  41.34 10.96 27.04 24.02 20.38 24.5  20.5  18.5  23.5\n",
      " 23.24 27.56 20.08 30.46 27.64 20.42 37.6  29.66 12.14 21.56 19.3  10.86\n",
      " 24.74 22.1  30.74 22.22 24.78 32.78 28.2  22.36 32.34 19.86 22.32 23.9\n",
      " 34.64 41.34 17.76 23.18 27.12 25.42 21.96 27.36 10.62 37.6  30.36 12.62\n",
      " 24.78 27.84 22.54 17.44 33.5  23.82 23.82 27.28 37.44 21.88 16.62 13.22\n",
      " 25.6  16.5   9.54 20.22 22.78  9.64 31.7  30.16 25.5  22.5  26.42 20.\n",
      " 24.06 18.04 19.72 12.12 31.82 24.66 16.5 ]\n"
     ]
    }
   ],
   "source": [
    "print(\"Test set predictions:\\n{}\".format(reg.predict(X_test)))"
   ]
  },
  {
   "cell_type": "code",
   "execution_count": 17,
   "id": "f3d750db-aade-4e4b-adc1-6a868efa2893",
   "metadata": {},
   "outputs": [
    {
     "name": "stdout",
     "output_type": "stream",
     "text": [
      "Test set R^2: 0.59\n"
     ]
    }
   ],
   "source": [
    "print(\"Test set R^2: {:.2f}\".format(reg.score(X_test, y_test)))"
   ]
  },
  {
   "cell_type": "code",
   "execution_count": 18,
   "id": "c25c69d3-ff64-447a-a0ec-bee802816823",
   "metadata": {},
   "outputs": [],
   "source": [
    "from sklearn.linear_model import LinearRegression\n",
    "#X, y = mglearn.datasets.make_wave(n_samples=60)\n",
    "#X_train, X_test, y_train, y_test = train_test_split(boston['data'], , random_state=42)\n",
    "lr = LinearRegression().fit(X_train, y_train)"
   ]
  },
  {
   "cell_type": "code",
   "execution_count": 25,
   "id": "c91e5875-a87d-4d16-8d7e-092382b8a677",
   "metadata": {},
   "outputs": [
    {
     "data": {
      "text/plain": [
       "array(['CRIM', 'ZN', 'INDUS', 'CHAS', 'NOX', 'RM', 'AGE', 'DIS', 'RAD',\n",
       "       'TAX', 'PTRATIO', 'B', 'LSTAT'], dtype='<U7')"
      ]
     },
     "execution_count": 25,
     "metadata": {},
     "output_type": "execute_result"
    }
   ],
   "source": [
    "boston['feature_names']"
   ]
  },
  {
   "cell_type": "code",
   "execution_count": 19,
   "id": "c7a0fd0b-783b-42ce-bc08-af87c5bed2a7",
   "metadata": {},
   "outputs": [
    {
     "name": "stdout",
     "output_type": "stream",
     "text": [
      "lr.coef_: [-9.81915048e-02  3.48400626e-02 -1.65945367e-02  3.36283135e+00\n",
      " -1.61477570e+01  3.57041012e+00  4.56458846e-03 -1.39585375e+00\n",
      "  3.15975518e-01 -1.20505823e-02 -1.04852815e+00  1.14536184e-02\n",
      " -5.52653040e-01]\n",
      "lr.intercept_: 38.116141265081154\n"
     ]
    }
   ],
   "source": [
    "print(\"lr.coef_: {}\".format(lr.coef_))\n",
    "print(\"lr.intercept_: {}\".format(lr.intercept_))"
   ]
  },
  {
   "cell_type": "code",
   "execution_count": 20,
   "id": "4338537c-381e-4a6f-9505-0c3e87be3173",
   "metadata": {},
   "outputs": [
    {
     "name": "stdout",
     "output_type": "stream",
     "text": [
      "Training set score: 0.73\n",
      "Test set score: 0.75\n"
     ]
    }
   ],
   "source": [
    "print(\"Training set score: {:.2f}\".format(lr.score(X_train, y_train)))\n",
    "print(\"Test set score: {:.2f}\".format(lr.score(X_test, y_test)))"
   ]
  },
  {
   "cell_type": "code",
   "execution_count": 32,
   "id": "df1296ee-05f2-466d-9567-5719fb44d65e",
   "metadata": {},
   "outputs": [],
   "source": [
    "from sklearn.datasets import load_iris\n",
    "iris_dataset = load_iris() #Aqui guardamos los datos (No los del archivo en csv)\n",
    "from sklearn.model_selection import train_test_split\n",
    "X_train, X_test, y_train, y_test = train_test_split(\n",
    "iris_dataset['data'], iris_dataset['target'],test_size=0.2,train_size=0.8, random_state=2)"
   ]
  },
  {
   "cell_type": "code",
   "execution_count": 33,
   "id": "06a1fb58-ed28-445a-a362-e1eda718300b",
   "metadata": {},
   "outputs": [
    {
     "data": {
      "text/plain": [
       "KNeighborsClassifier()"
      ]
     },
     "execution_count": 33,
     "metadata": {},
     "output_type": "execute_result"
    }
   ],
   "source": [
    "from sklearn.neighbors import KNeighborsClassifier#Importamos el método\n",
    "knn = KNeighborsClassifier(n_neighbors=5)#Elegimos el número de vecinos\n",
    "knn.fit(X_train, y_train)"
   ]
  },
  {
   "cell_type": "code",
   "execution_count": 34,
   "id": "8de2f425-a054-4df9-8d2e-59f33e8d607c",
   "metadata": {},
   "outputs": [
    {
     "name": "stdout",
     "output_type": "stream",
     "text": [
      "Test set predictions:\n",
      " [0 0 2 0 0 2 0 2 2 0 0 0 0 0 1 1 0 1 2 1 1 1 2 1 1 0 0 2 0 2]\n"
     ]
    }
   ],
   "source": [
    "y_pred = knn.predict(X_test)\n",
    "print(\"Test set predictions:\\n {}\".format(y_pred))"
   ]
  },
  {
   "cell_type": "code",
   "execution_count": 35,
   "id": "92c1a2f5-bd81-4d15-98c7-fe6fa7cce593",
   "metadata": {},
   "outputs": [
    {
     "name": "stdout",
     "output_type": "stream",
     "text": [
      "Test set score: 1.00\n"
     ]
    }
   ],
   "source": [
    "print(\"Test set score: {:.2f}\".format(np.mean(y_pred == y_test)))"
   ]
  }
 ],
 "metadata": {
  "kernelspec": {
   "display_name": "Python 3",
   "language": "python",
   "name": "python3"
  },
  "language_info": {
   "codemirror_mode": {
    "name": "ipython",
    "version": 3
   },
   "file_extension": ".py",
   "mimetype": "text/x-python",
   "name": "python",
   "nbconvert_exporter": "python",
   "pygments_lexer": "ipython3",
   "version": "3.8.8"
  }
 },
 "nbformat": 4,
 "nbformat_minor": 5
}
