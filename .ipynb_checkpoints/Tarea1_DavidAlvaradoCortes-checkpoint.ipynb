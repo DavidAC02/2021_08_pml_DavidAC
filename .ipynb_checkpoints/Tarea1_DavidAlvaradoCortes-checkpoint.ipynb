{
 "cells": [
  {
   "cell_type": "markdown",
   "id": "78e6e408-6f35-4607-9b4e-2a3f89b19d84",
   "metadata": {},
   "source": [
    "# TAREA 1. David Alvarado Cortés"
   ]
  },
  {
   "cell_type": "markdown",
   "id": "2e1e78a9-100f-4c4a-8b41-082cfc009c3c",
   "metadata": {},
   "source": [
    "## Running and Quitting"
   ]
  },
  {
   "cell_type": "markdown",
   "id": "c21e5e35-052d-41be-91a6-667f9178b31b",
   "metadata": {},
   "source": [
    "Para escribir comentarios o ttítulos usamos esc+M con lo cual pasamos de code a markdown. \n",
    "Enumeramos y dejamos un espacio entre el número y los elementos de la lista para que si se vea como lista. \n",
    "Para las sublistas usamos una tabulación.\n",
    "1.  Get funding.\n",
    "2.  Do work.\n",
    "    *   Design experiment.\n",
    "    *   Collect data.\n",
    "    *   Analyze.\n",
    "3.  Write up.\n",
    "4.  Publish."
   ]
  },
  {
   "cell_type": "markdown",
   "id": "6140a288-76f6-40c9-b733-48d3af8b84ee",
   "metadata": {},
   "source": [
    "## Variables and Assignment"
   ]
  },
  {
   "cell_type": "markdown",
   "id": "bac8b558-0a42-4026-9b8b-c8fe4daba207",
   "metadata": {},
   "source": [
    "## 1 \n",
    "En el siguiente ejercicio vemos como los valores de las son lo último que les pedimos que sean y no cambian si la variable que se uso para definirlos inicialmente cambia, a menos que así se lo pidamos"
   ]
  },
  {
   "cell_type": "code",
   "execution_count": 32,
   "id": "991ffb22-5469-429c-b2a4-240a06f7a037",
   "metadata": {},
   "outputs": [
    {
     "name": "stdout",
     "output_type": "stream",
     "text": [
      "\f",
      "\n"
     ]
    }
   ],
   "source": [
    "# Command  # Value of x   # Value of y   # Value of swap #\n",
    "x = 1.0    #     1        # No definido  # No definido   #\n",
    "y = 3.0    #     1        # 3            # No definido   #\n",
    "swap = x   #     1        # 3            # 1             #\n",
    "x = y      #     3        # 3            # 1             #\n",
    "y = swap   #     3        # 1            # 1             #"
   ]
  },
  {
   "cell_type": "markdown",
   "id": "6f448c98-0fcf-4478-939d-afeac6e770ee",
   "metadata": {},
   "source": [
    "Podemos verificar las respuestas anteriores con lo siguiente, donde a las variables les agregamos un uno para que no interfieran los valores de la celda anterior"
   ]
  },
  {
   "cell_type": "code",
   "execution_count": 50,
   "id": "2e363b0d-77b8-421e-b798-fd13c31554f1",
   "metadata": {},
   "outputs": [
    {
     "name": "stdout",
     "output_type": "stream",
     "text": [
      "El valor de x1 es:  1\n"
     ]
    },
    {
     "ename": "NameError",
     "evalue": "name 'y1' is not defined",
     "output_type": "error",
     "traceback": [
      "\u001b[1;31m---------------------------------------------------------------------------\u001b[0m",
      "\u001b[1;31mNameError\u001b[0m                                 Traceback (most recent call last)",
      "\u001b[1;32m<ipython-input-50-3447f890eadb>\u001b[0m in \u001b[0;36m<module>\u001b[1;34m\u001b[0m\n\u001b[0;32m      1\u001b[0m \u001b[0mx1\u001b[0m \u001b[1;33m=\u001b[0m \u001b[1;36m1\u001b[0m\u001b[1;33m\u001b[0m\u001b[1;33m\u001b[0m\u001b[0m\n\u001b[0;32m      2\u001b[0m \u001b[0mprint\u001b[0m\u001b[1;33m(\u001b[0m\u001b[1;34m'El valor de x1 es: '\u001b[0m\u001b[1;33m,\u001b[0m \u001b[0mx1\u001b[0m\u001b[1;33m)\u001b[0m\u001b[1;33m\u001b[0m\u001b[1;33m\u001b[0m\u001b[0m\n\u001b[1;32m----> 3\u001b[1;33m \u001b[0mprint\u001b[0m\u001b[1;33m(\u001b[0m\u001b[1;34m'El valor de y1 es: '\u001b[0m\u001b[1;33m,\u001b[0m \u001b[0my1\u001b[0m\u001b[1;33m)\u001b[0m\u001b[1;33m\u001b[0m\u001b[1;33m\u001b[0m\u001b[0m\n\u001b[0m\u001b[0;32m      4\u001b[0m \u001b[0mprint\u001b[0m\u001b[1;33m(\u001b[0m\u001b[1;34m'El valor de swap1 es: '\u001b[0m\u001b[1;33m,\u001b[0m \u001b[0mswap1\u001b[0m\u001b[1;33m)\u001b[0m\u001b[1;33m\u001b[0m\u001b[1;33m\u001b[0m\u001b[0m\n",
      "\u001b[1;31mNameError\u001b[0m: name 'y1' is not defined"
     ]
    }
   ],
   "source": [
    "x1 = 1\n",
    "print('El valor de x1 es: ', x1)\n",
    "print('El valor de y1 es: ', y1)\n",
    "print('El valor de swap1 es: ', swap1)"
   ]
  },
  {
   "cell_type": "code",
   "execution_count": 51,
   "id": "44b24f55-3c5d-4ba6-bb48-fea90db0ac8b",
   "metadata": {},
   "outputs": [
    {
     "name": "stdout",
     "output_type": "stream",
     "text": [
      "El valor de x1 es:  1\n",
      "El valor de y1 es:  3\n"
     ]
    },
    {
     "ename": "NameError",
     "evalue": "name 'swap1' is not defined",
     "output_type": "error",
     "traceback": [
      "\u001b[1;31m---------------------------------------------------------------------------\u001b[0m",
      "\u001b[1;31mNameError\u001b[0m                                 Traceback (most recent call last)",
      "\u001b[1;32m<ipython-input-51-8e7aeecec4e8>\u001b[0m in \u001b[0;36m<module>\u001b[1;34m\u001b[0m\n\u001b[0;32m      3\u001b[0m \u001b[0mprint\u001b[0m\u001b[1;33m(\u001b[0m\u001b[1;34m'El valor de x1 es: '\u001b[0m\u001b[1;33m,\u001b[0m \u001b[0mx1\u001b[0m\u001b[1;33m)\u001b[0m\u001b[1;33m\u001b[0m\u001b[1;33m\u001b[0m\u001b[0m\n\u001b[0;32m      4\u001b[0m \u001b[0mprint\u001b[0m\u001b[1;33m(\u001b[0m\u001b[1;34m'El valor de y1 es: '\u001b[0m\u001b[1;33m,\u001b[0m \u001b[0my1\u001b[0m\u001b[1;33m)\u001b[0m\u001b[1;33m\u001b[0m\u001b[1;33m\u001b[0m\u001b[0m\n\u001b[1;32m----> 5\u001b[1;33m \u001b[0mprint\u001b[0m\u001b[1;33m(\u001b[0m\u001b[1;34m'El valor de swap1 es: '\u001b[0m\u001b[1;33m,\u001b[0m \u001b[0mswap1\u001b[0m\u001b[1;33m)\u001b[0m\u001b[1;33m\u001b[0m\u001b[1;33m\u001b[0m\u001b[0m\n\u001b[0m",
      "\u001b[1;31mNameError\u001b[0m: name 'swap1' is not defined"
     ]
    }
   ],
   "source": [
    "x1 = 1\n",
    "y1 = 3\n",
    "print('El valor de x1 es: ', x1)\n",
    "print('El valor de y1 es: ', y1)\n",
    "print('El valor de swap1 es: ', swap1)"
   ]
  },
  {
   "cell_type": "code",
   "execution_count": 52,
   "id": "d6a572d5-b355-4cd9-9a91-70ba4e465374",
   "metadata": {},
   "outputs": [
    {
     "name": "stdout",
     "output_type": "stream",
     "text": [
      "El valor de x1 es:  1\n",
      "El valor de y1 es:  3\n",
      "El valor de swap1 es:  1\n"
     ]
    }
   ],
   "source": [
    "x1 = 1\n",
    "y1 = 3\n",
    "swap1 = x1\n",
    "print('El valor de x1 es: ', x1)\n",
    "print('El valor de y1 es: ', y1)\n",
    "print('El valor de swap1 es: ', swap1)"
   ]
  },
  {
   "cell_type": "code",
   "execution_count": 53,
   "id": "a116555c-5bac-4382-af6f-ff09f7b88eeb",
   "metadata": {},
   "outputs": [
    {
     "name": "stdout",
     "output_type": "stream",
     "text": [
      "El valor de x1 es:  3\n",
      "El valor de y1 es:  3\n",
      "El valor de swap1 es:  1\n"
     ]
    }
   ],
   "source": [
    "x1 = 1\n",
    "y1 = 3\n",
    "swap1 = x1\n",
    "x1 = y1\n",
    "print('El valor de x1 es: ', x1)\n",
    "print('El valor de y1 es: ', y1)\n",
    "print('El valor de swap1 es: ', swap1)"
   ]
  },
  {
   "cell_type": "code",
   "execution_count": 54,
   "id": "5c203f5d-c3b4-48dd-9fd6-d5ad9c128b29",
   "metadata": {},
   "outputs": [
    {
     "name": "stdout",
     "output_type": "stream",
     "text": [
      "El valor de x1 es:  3\n",
      "El valor de y1 es:  1\n",
      "El valor de swap1 es:  1\n"
     ]
    }
   ],
   "source": [
    "x1 = 1\n",
    "y1 = 3\n",
    "swap1 = x1\n",
    "x1 = y1\n",
    "y1 =swap1\n",
    "print('El valor de x1 es: ', x1)\n",
    "print('El valor de y1 es: ', y1)\n",
    "print('El valor de swap1 es: ', swap1)"
   ]
  },
  {
   "cell_type": "markdown",
   "id": "b377b46b-4908-445a-8c76-a6b2f76c1d1a",
   "metadata": {},
   "source": [
    "## 2\n",
    "Con el siguiente ejercicio vemos que el valor de position es el último valor de initial antes de definir position, es decir, position no cambia después de definida a pesar de que initial cambie"
   ]
  },
  {
   "cell_type": "code",
   "execution_count": 28,
   "id": "060badd6-40c1-4879-9f12-49ae9b7e4229",
   "metadata": {},
   "outputs": [],
   "source": [
    "initial = 'left'\n",
    "position = initial\n",
    "initial = 'right'"
   ]
  },
  {
   "cell_type": "code",
   "execution_count": 29,
   "id": "936ddac3-5128-407a-86c8-973ae6adb7e7",
   "metadata": {},
   "outputs": [
    {
     "name": "stdout",
     "output_type": "stream",
     "text": [
      "left\n"
     ]
    }
   ],
   "source": [
    "print(position)"
   ]
  },
  {
   "cell_type": "code",
   "execution_count": 30,
   "id": "260e0af4-d548-4f83-b80b-bcc95daa0eab",
   "metadata": {},
   "outputs": [
    {
     "name": "stdout",
     "output_type": "stream",
     "text": [
      "right\n"
     ]
    }
   ],
   "source": [
    "#Si actualizamos position entonces esta cambiaabs \n",
    "position = initial\n",
    "print(position)"
   ]
  },
  {
   "cell_type": "markdown",
   "id": "39e1aea1-01ba-4838-893f-64f14d1b4a7e",
   "metadata": {},
   "source": [
    "# Data Types and Type Conversion"
   ]
  },
  {
   "cell_type": "markdown",
   "id": "0c265063-d351-434b-89ec-6c80c2b10e16",
   "metadata": {},
   "source": [
    "# 1 \n",
    "Para conocer que tipo de valor tiene algo (float, integer, string) usamos la type"
   ]
  },
  {
   "cell_type": "code",
   "execution_count": 55,
   "id": "99f68a2e-a4ed-40ef-87ba-57e7697eaa58",
   "metadata": {},
   "outputs": [
    {
     "name": "stdout",
     "output_type": "stream",
     "text": [
      "<class 'float'>\n"
     ]
    }
   ],
   "source": [
    "print(type(3.4))"
   ]
  },
  {
   "cell_type": "code",
   "execution_count": 56,
   "id": "7bc7e6ad-9be0-45a3-97b9-6e58cf96892a",
   "metadata": {},
   "outputs": [
    {
     "name": "stdout",
     "output_type": "stream",
     "text": [
      "<class 'str'>\n"
     ]
    }
   ],
   "source": [
    "print(type('Hola'))"
   ]
  },
  {
   "cell_type": "code",
   "execution_count": 59,
   "id": "8ab18413-55da-4229-98d3-52c0e2a61f1a",
   "metadata": {},
   "outputs": [
    {
     "name": "stdout",
     "output_type": "stream",
     "text": [
      "<class 'int'>\n"
     ]
    }
   ],
   "source": [
    "print(type(3))"
   ]
  },
  {
   "cell_type": "code",
   "execution_count": 60,
   "id": "6b895a82-788a-4534-a3e1-107820416f68",
   "metadata": {},
   "outputs": [
    {
     "name": "stdout",
     "output_type": "stream",
     "text": [
      "<class 'float'>\n"
     ]
    }
   ],
   "source": [
    "#Si ponemos .0 la variable es flotante en lugar de ser entera\n",
    "print(type(3.0))"
   ]
  },
  {
   "cell_type": "markdown",
   "id": "2bf779aa-8063-4436-baf1-b68d52d88e27",
   "metadata": {},
   "source": [
    "# 2 \n",
    "El siguiente codigo devuelve un error, pues primero deberiamos convertir el string \"3.4\" en una variable flotante 3.4 y despues en una entera 3 "
   ]
  },
  {
   "cell_type": "code",
   "execution_count": 61,
   "id": "68e5d242-7376-40a9-940d-62f157d8bf8a",
   "metadata": {},
   "outputs": [
    {
     "ename": "ValueError",
     "evalue": "invalid literal for int() with base 10: '3.4'",
     "output_type": "error",
     "traceback": [
      "\u001b[1;31m---------------------------------------------------------------------------\u001b[0m",
      "\u001b[1;31mValueError\u001b[0m                                Traceback (most recent call last)",
      "\u001b[1;32m<ipython-input-61-617dc59d7f19>\u001b[0m in \u001b[0;36m<module>\u001b[1;34m\u001b[0m\n\u001b[1;32m----> 1\u001b[1;33m \u001b[0mprint\u001b[0m\u001b[1;33m(\u001b[0m\u001b[1;34m\"fractional string to int:\"\u001b[0m\u001b[1;33m,\u001b[0m \u001b[0mint\u001b[0m\u001b[1;33m(\u001b[0m\u001b[1;34m\"3.4\"\u001b[0m\u001b[1;33m)\u001b[0m\u001b[1;33m)\u001b[0m\u001b[1;33m\u001b[0m\u001b[1;33m\u001b[0m\u001b[0m\n\u001b[0m",
      "\u001b[1;31mValueError\u001b[0m: invalid literal for int() with base 10: '3.4'"
     ]
    }
   ],
   "source": [
    "print(\"fractional string to int:\", int(\"3.4\"))"
   ]
  },
  {
   "cell_type": "code",
   "execution_count": 62,
   "id": "6c238614-429d-4181-aa48-db1137f86da3",
   "metadata": {},
   "outputs": [
    {
     "data": {
      "text/plain": [
       "3"
      ]
     },
     "execution_count": 62,
     "metadata": {},
     "output_type": "execute_result"
    }
   ],
   "source": [
    "int(float(\"3.4\"))"
   ]
  },
  {
   "cell_type": "markdown",
   "id": "5bc67855-29e4-4e45-8858-f74081d0e2df",
   "metadata": {},
   "source": [
    "# Built-in Functions and Help"
   ]
  },
  {
   "cell_type": "markdown",
   "id": "81512b48-080b-4aab-aec5-a39e55f60432",
   "metadata": {},
   "source": [
    "El primer print va a devolver la letra \"c\", el segundo va a devolver la variable poor que es \"tin\" y el tercero va a devolver 4, que es el m´maximo de las longitudes de los strings gold (4) y tin (3)"
   ]
  },
  {
   "cell_type": "code",
   "execution_count": 64,
   "id": "02773439-2ebd-4cbc-9b45-1134dd952475",
   "metadata": {},
   "outputs": [
    {
     "name": "stdout",
     "output_type": "stream",
     "text": [
      "c\n",
      "tin\n",
      "4\n"
     ]
    }
   ],
   "source": [
    "easy_string = \"abc\"\n",
    "print(max(easy_string))\n",
    "rich = \"gold\"\n",
    "poor = \"tin\"\n",
    "print(max(rich, poor))\n",
    "print(max(len(rich), len(poor)))"
   ]
  },
  {
   "cell_type": "markdown",
   "id": "7f39225c-6412-4b24-aaed-27ac16dfdba0",
   "metadata": {},
   "source": [
    "Aqui notamos que el orden entre los strings es el orden lexicográfico, y el orden de las letras el del abecedario "
   ]
  },
  {
   "cell_type": "markdown",
   "id": "eb9fc5c5-b24c-41e7-8955-27157649fa95",
   "metadata": {},
   "source": [
    "# Libraries"
   ]
  },
  {
   "cell_type": "markdown",
   "id": "d0413a93-6a99-4e02-9dc4-9133faada9d9",
   "metadata": {},
   "source": [
    "Importamos la librería random para con la función randrange escoger un valor aleatorio entre 0 y la longitud de bases (que es 11), luego imprimimos la letra en la posición resultante  y puesto que ocupa dicha posición si comenzamos a contar en 1. Fue muy util buscar el google sobre la librería."
   ]
  },
  {
   "cell_type": "code",
   "execution_count": 66,
   "id": "751b2939-5c53-493a-825a-4602009fbfd8",
   "metadata": {},
   "outputs": [
    {
     "name": "stdout",
     "output_type": "stream",
     "text": [
      "random base  A base index 1\n"
     ]
    }
   ],
   "source": [
    "bases=\"ACTTGCTTGAC\"\n",
    "import math\n",
    "import random\n",
    "n_bases = len(bases)\n",
    "l = random.randrange(n_bases) #l de letra\n",
    "print(\"random base \", bases[l], \"base index\",l+1) #l+1 porque la cuenta empieza en 0"
   ]
  },
  {
   "cell_type": "markdown",
   "id": "5d2fc2fa-504e-45f4-8430-d9c7d5070ab0",
   "metadata": {},
   "source": [
    "# Reading Tabular Data into DataFrames"
   ]
  },
  {
   "cell_type": "markdown",
   "id": "27eab3eb-e3c1-4694-bdfd-b5a802775927",
   "metadata": {},
   "source": [
    "Ejercicio: Read the data in gapminder_gdp_americas.csv (which should be in the same directory as gapminder_gdp_oceania.csv) into a variable called americas and display its summary statistics.\n",
    "\n",
    "Primero importamos pandas, despues hacemos la variable americas que use la función read_csv de pandas para leer las estadisticas de los datos solicitados."
   ]
  },
  {
   "cell_type": "code",
   "execution_count": 72,
   "id": "8858ae93-766a-41fd-a46d-fc3da10a29f6",
   "metadata": {},
   "outputs": [
    {
     "data": {
      "text/html": [
       "<div>\n",
       "<style scoped>\n",
       "    .dataframe tbody tr th:only-of-type {\n",
       "        vertical-align: middle;\n",
       "    }\n",
       "\n",
       "    .dataframe tbody tr th {\n",
       "        vertical-align: top;\n",
       "    }\n",
       "\n",
       "    .dataframe thead th {\n",
       "        text-align: right;\n",
       "    }\n",
       "</style>\n",
       "<table border=\"1\" class=\"dataframe\">\n",
       "  <thead>\n",
       "    <tr style=\"text-align: right;\">\n",
       "      <th></th>\n",
       "      <th>gdpPercap_1952</th>\n",
       "      <th>gdpPercap_1957</th>\n",
       "      <th>gdpPercap_1962</th>\n",
       "      <th>gdpPercap_1967</th>\n",
       "      <th>gdpPercap_1972</th>\n",
       "      <th>gdpPercap_1977</th>\n",
       "      <th>gdpPercap_1982</th>\n",
       "      <th>gdpPercap_1987</th>\n",
       "      <th>gdpPercap_1992</th>\n",
       "      <th>gdpPercap_1997</th>\n",
       "      <th>gdpPercap_2002</th>\n",
       "      <th>gdpPercap_2007</th>\n",
       "    </tr>\n",
       "  </thead>\n",
       "  <tbody>\n",
       "    <tr>\n",
       "      <th>count</th>\n",
       "      <td>25.000000</td>\n",
       "      <td>25.000000</td>\n",
       "      <td>25.000000</td>\n",
       "      <td>25.000000</td>\n",
       "      <td>25.000000</td>\n",
       "      <td>25.000000</td>\n",
       "      <td>25.000000</td>\n",
       "      <td>25.000000</td>\n",
       "      <td>25.000000</td>\n",
       "      <td>25.000000</td>\n",
       "      <td>25.000000</td>\n",
       "      <td>25.000000</td>\n",
       "    </tr>\n",
       "    <tr>\n",
       "      <th>mean</th>\n",
       "      <td>4079.062552</td>\n",
       "      <td>4616.043733</td>\n",
       "      <td>4901.541870</td>\n",
       "      <td>5668.253496</td>\n",
       "      <td>6491.334139</td>\n",
       "      <td>7352.007126</td>\n",
       "      <td>7506.737088</td>\n",
       "      <td>7793.400261</td>\n",
       "      <td>8044.934406</td>\n",
       "      <td>8889.300863</td>\n",
       "      <td>9287.677107</td>\n",
       "      <td>11003.031625</td>\n",
       "    </tr>\n",
       "    <tr>\n",
       "      <th>std</th>\n",
       "      <td>3001.727522</td>\n",
       "      <td>3312.381083</td>\n",
       "      <td>3421.740569</td>\n",
       "      <td>4160.885560</td>\n",
       "      <td>4754.404329</td>\n",
       "      <td>5355.602518</td>\n",
       "      <td>5530.490471</td>\n",
       "      <td>6665.039509</td>\n",
       "      <td>7047.089191</td>\n",
       "      <td>7874.225145</td>\n",
       "      <td>8895.817785</td>\n",
       "      <td>9713.209302</td>\n",
       "    </tr>\n",
       "    <tr>\n",
       "      <th>min</th>\n",
       "      <td>1397.717137</td>\n",
       "      <td>1544.402995</td>\n",
       "      <td>1662.137359</td>\n",
       "      <td>1452.057666</td>\n",
       "      <td>1654.456946</td>\n",
       "      <td>1874.298931</td>\n",
       "      <td>2011.159549</td>\n",
       "      <td>1823.015995</td>\n",
       "      <td>1456.309517</td>\n",
       "      <td>1341.726931</td>\n",
       "      <td>1270.364932</td>\n",
       "      <td>1201.637154</td>\n",
       "    </tr>\n",
       "    <tr>\n",
       "      <th>25%</th>\n",
       "      <td>2428.237769</td>\n",
       "      <td>2487.365989</td>\n",
       "      <td>2750.364446</td>\n",
       "      <td>3242.531147</td>\n",
       "      <td>4031.408271</td>\n",
       "      <td>4756.763836</td>\n",
       "      <td>4258.503604</td>\n",
       "      <td>4140.442097</td>\n",
       "      <td>4439.450840</td>\n",
       "      <td>4684.313807</td>\n",
       "      <td>4858.347495</td>\n",
       "      <td>5728.353514</td>\n",
       "    </tr>\n",
       "    <tr>\n",
       "      <th>50%</th>\n",
       "      <td>3048.302900</td>\n",
       "      <td>3780.546651</td>\n",
       "      <td>4086.114078</td>\n",
       "      <td>4643.393534</td>\n",
       "      <td>5305.445256</td>\n",
       "      <td>6281.290855</td>\n",
       "      <td>6434.501797</td>\n",
       "      <td>6360.943444</td>\n",
       "      <td>6618.743050</td>\n",
       "      <td>7113.692252</td>\n",
       "      <td>6994.774861</td>\n",
       "      <td>8948.102923</td>\n",
       "    </tr>\n",
       "    <tr>\n",
       "      <th>75%</th>\n",
       "      <td>3939.978789</td>\n",
       "      <td>4756.525781</td>\n",
       "      <td>5180.755910</td>\n",
       "      <td>5788.093330</td>\n",
       "      <td>6809.406690</td>\n",
       "      <td>7674.929108</td>\n",
       "      <td>8997.897412</td>\n",
       "      <td>7807.095818</td>\n",
       "      <td>8137.004775</td>\n",
       "      <td>9767.297530</td>\n",
       "      <td>8797.640716</td>\n",
       "      <td>11977.574960</td>\n",
       "    </tr>\n",
       "    <tr>\n",
       "      <th>max</th>\n",
       "      <td>13990.482080</td>\n",
       "      <td>14847.127120</td>\n",
       "      <td>16173.145860</td>\n",
       "      <td>19530.365570</td>\n",
       "      <td>21806.035940</td>\n",
       "      <td>24072.632130</td>\n",
       "      <td>25009.559140</td>\n",
       "      <td>29884.350410</td>\n",
       "      <td>32003.932240</td>\n",
       "      <td>35767.433030</td>\n",
       "      <td>39097.099550</td>\n",
       "      <td>42951.653090</td>\n",
       "    </tr>\n",
       "  </tbody>\n",
       "</table>\n",
       "</div>"
      ],
      "text/plain": [
       "       gdpPercap_1952  gdpPercap_1957  gdpPercap_1962  gdpPercap_1967  \\\n",
       "count       25.000000       25.000000       25.000000       25.000000   \n",
       "mean      4079.062552     4616.043733     4901.541870     5668.253496   \n",
       "std       3001.727522     3312.381083     3421.740569     4160.885560   \n",
       "min       1397.717137     1544.402995     1662.137359     1452.057666   \n",
       "25%       2428.237769     2487.365989     2750.364446     3242.531147   \n",
       "50%       3048.302900     3780.546651     4086.114078     4643.393534   \n",
       "75%       3939.978789     4756.525781     5180.755910     5788.093330   \n",
       "max      13990.482080    14847.127120    16173.145860    19530.365570   \n",
       "\n",
       "       gdpPercap_1972  gdpPercap_1977  gdpPercap_1982  gdpPercap_1987  \\\n",
       "count       25.000000       25.000000       25.000000       25.000000   \n",
       "mean      6491.334139     7352.007126     7506.737088     7793.400261   \n",
       "std       4754.404329     5355.602518     5530.490471     6665.039509   \n",
       "min       1654.456946     1874.298931     2011.159549     1823.015995   \n",
       "25%       4031.408271     4756.763836     4258.503604     4140.442097   \n",
       "50%       5305.445256     6281.290855     6434.501797     6360.943444   \n",
       "75%       6809.406690     7674.929108     8997.897412     7807.095818   \n",
       "max      21806.035940    24072.632130    25009.559140    29884.350410   \n",
       "\n",
       "       gdpPercap_1992  gdpPercap_1997  gdpPercap_2002  gdpPercap_2007  \n",
       "count       25.000000       25.000000       25.000000       25.000000  \n",
       "mean      8044.934406     8889.300863     9287.677107    11003.031625  \n",
       "std       7047.089191     7874.225145     8895.817785     9713.209302  \n",
       "min       1456.309517     1341.726931     1270.364932     1201.637154  \n",
       "25%       4439.450840     4684.313807     4858.347495     5728.353514  \n",
       "50%       6618.743050     7113.692252     6994.774861     8948.102923  \n",
       "75%       8137.004775     9767.297530     8797.640716    11977.574960  \n",
       "max      32003.932240    35767.433030    39097.099550    42951.653090  "
      ]
     },
     "execution_count": 72,
     "metadata": {},
     "output_type": "execute_result"
    }
   ],
   "source": [
    "import pandas as pd\n",
    "americas = pd.read_csv('python-novice-gapminder-data/data/gapminder_gdp_americas.csv', index_col='country')\n",
    "americas.describe()"
   ]
  },
  {
   "cell_type": "code",
   "execution_count": 69,
   "id": "5e98ef51-6295-47b0-811a-62bc8131882a",
   "metadata": {},
   "outputs": [
    {
     "name": "stdout",
     "output_type": "stream",
     "text": [
      "                    continent  gdpPercap_1952  gdpPercap_1957  gdpPercap_1962  \\\n",
      "country                                                                         \n",
      "Argentina            Americas     5911.315053     6856.856212     7133.166023   \n",
      "Bolivia              Americas     2677.326347     2127.686326     2180.972546   \n",
      "Brazil               Americas     2108.944355     2487.365989     3336.585802   \n",
      "Canada               Americas    11367.161120    12489.950060    13462.485550   \n",
      "Chile                Americas     3939.978789     4315.622723     4519.094331   \n",
      "Colombia             Americas     2144.115096     2323.805581     2492.351109   \n",
      "Costa Rica           Americas     2627.009471     2990.010802     3460.937025   \n",
      "Cuba                 Americas     5586.538780     6092.174359     5180.755910   \n",
      "Dominican Republic   Americas     1397.717137     1544.402995     1662.137359   \n",
      "Ecuador              Americas     3522.110717     3780.546651     4086.114078   \n",
      "El Salvador          Americas     3048.302900     3421.523218     3776.803627   \n",
      "Guatemala            Americas     2428.237769     2617.155967     2750.364446   \n",
      "Haiti                Americas     1840.366939     1726.887882     1796.589032   \n",
      "Honduras             Americas     2194.926204     2220.487682     2291.156835   \n",
      "Jamaica              Americas     2898.530881     4756.525781     5246.107524   \n",
      "Mexico               Americas     3478.125529     4131.546641     4581.609385   \n",
      "Nicaragua            Americas     3112.363948     3457.415947     3634.364406   \n",
      "Panama               Americas     2480.380334     2961.800905     3536.540301   \n",
      "Paraguay             Americas     1952.308701     2046.154706     2148.027146   \n",
      "Peru                 Americas     3758.523437     4245.256698     4957.037982   \n",
      "Puerto Rico          Americas     3081.959785     3907.156189     5108.344630   \n",
      "Trinidad and Tobago  Americas     3023.271928     4100.393400     4997.523971   \n",
      "United States        Americas    13990.482080    14847.127120    16173.145860   \n",
      "Uruguay              Americas     5716.766744     6150.772969     5603.357717   \n",
      "Venezuela            Americas     7689.799761     9802.466526     8422.974165   \n",
      "\n",
      "                     gdpPercap_1967  gdpPercap_1972  gdpPercap_1977  \\\n",
      "country                                                               \n",
      "Argentina               8052.953021     9443.038526    10079.026740   \n",
      "Bolivia                 2586.886053     2980.331339     3548.097832   \n",
      "Brazil                  3429.864357     4985.711467     6660.118654   \n",
      "Canada                 16076.588030    18970.570860    22090.883060   \n",
      "Chile                   5106.654313     5494.024437     4756.763836   \n",
      "Colombia                2678.729839     3264.660041     3815.807870   \n",
      "Costa Rica              4161.727834     5118.146939     5926.876967   \n",
      "Cuba                    5690.268015     5305.445256     6380.494966   \n",
      "Dominican Republic      1653.723003     2189.874499     2681.988900   \n",
      "Ecuador                 4579.074215     5280.994710     6679.623260   \n",
      "El Salvador             4358.595393     4520.246008     5138.922374   \n",
      "Guatemala               3242.531147     4031.408271     4879.992748   \n",
      "Haiti                   1452.057666     1654.456946     1874.298931   \n",
      "Honduras                2538.269358     2529.842345     3203.208066   \n",
      "Jamaica                 6124.703451     7433.889293     6650.195573   \n",
      "Mexico                  5754.733883     6809.406690     7674.929108   \n",
      "Nicaragua               4643.393534     4688.593267     5486.371089   \n",
      "Panama                  4421.009084     5364.249663     5351.912144   \n",
      "Paraguay                2299.376311     2523.337977     3248.373311   \n",
      "Peru                    5788.093330     5937.827283     6281.290855   \n",
      "Puerto Rico             6929.277714     9123.041742     9770.524921   \n",
      "Trinidad and Tobago     5621.368472     6619.551419     7899.554209   \n",
      "United States          19530.365570    21806.035940    24072.632130   \n",
      "Uruguay                 5444.619620     5703.408898     6504.339663   \n",
      "Venezuela               9541.474188    10505.259660    13143.950950   \n",
      "\n",
      "                     gdpPercap_1982  gdpPercap_1987  gdpPercap_1992  \\\n",
      "country                                                               \n",
      "Argentina               8997.897412     9139.671389     9308.418710   \n",
      "Bolivia                 3156.510452     2753.691490     2961.699694   \n",
      "Brazil                  7030.835878     7807.095818     6950.283021   \n",
      "Canada                 22898.792140    26626.515030    26342.884260   \n",
      "Chile                   5095.665738     5547.063754     7596.125964   \n",
      "Colombia                4397.575659     4903.219100     5444.648617   \n",
      "Costa Rica              5262.734751     5629.915318     6160.416317   \n",
      "Cuba                    7316.918107     7532.924763     5592.843963   \n",
      "Dominican Republic      2861.092386     2899.842175     3044.214214   \n",
      "Ecuador                 7213.791267     6481.776993     7103.702595   \n",
      "El Salvador             4098.344175     4140.442097     4444.231700   \n",
      "Guatemala               4820.494790     4246.485974     4439.450840   \n",
      "Haiti                   2011.159549     1823.015995     1456.309517   \n",
      "Honduras                3121.760794     3023.096699     3081.694603   \n",
      "Jamaica                 6068.051350     6351.237495     7404.923685   \n",
      "Mexico                  9611.147541     8688.156003     9472.384295   \n",
      "Nicaragua               3470.338156     2955.984375     2170.151724   \n",
      "Panama                  7009.601598     7034.779161     6618.743050   \n",
      "Paraguay                4258.503604     3998.875695     4196.411078   \n",
      "Peru                    6434.501797     6360.943444     4446.380924   \n",
      "Puerto Rico            10330.989150    12281.341910    14641.587110   \n",
      "Trinidad and Tobago     9119.528607     7388.597823     7370.990932   \n",
      "United States          25009.559140    29884.350410    32003.932240   \n",
      "Uruguay                 6920.223051     7452.398969     8137.004775   \n",
      "Venezuela              11152.410110     9883.584648    10733.926310   \n",
      "\n",
      "                     gdpPercap_1997  gdpPercap_2002  gdpPercap_2007  \n",
      "country                                                              \n",
      "Argentina              10967.281950     8797.640716    12779.379640  \n",
      "Bolivia                 3326.143191     3413.262690     3822.137084  \n",
      "Brazil                  7957.980824     8131.212843     9065.800825  \n",
      "Canada                 28954.925890    33328.965070    36319.235010  \n",
      "Chile                  10118.053180    10778.783850    13171.638850  \n",
      "Colombia                6117.361746     5755.259962     7006.580419  \n",
      "Costa Rica              6677.045314     7723.447195     9645.061420  \n",
      "Cuba                    5431.990415     6340.646683     8948.102923  \n",
      "Dominican Republic      3614.101285     4563.808154     6025.374752  \n",
      "Ecuador                 7429.455877     5773.044512     6873.262326  \n",
      "El Salvador             5154.825496     5351.568666     5728.353514  \n",
      "Guatemala               4684.313807     4858.347495     5186.050003  \n",
      "Haiti                   1341.726931     1270.364932     1201.637154  \n",
      "Honduras                3160.454906     3099.728660     3548.330846  \n",
      "Jamaica                 7121.924704     6994.774861     7320.880262  \n",
      "Mexico                  9767.297530    10742.440530    11977.574960  \n",
      "Nicaragua               2253.023004     2474.548819     2749.320965  \n",
      "Panama                  7113.692252     7356.031934     9809.185636  \n",
      "Paraguay                4247.400261     3783.674243     4172.838464  \n",
      "Peru                    5838.347657     5909.020073     7408.905561  \n",
      "Puerto Rico            16999.433300    18855.606180    19328.709010  \n",
      "Trinidad and Tobago     8792.573126    11460.600230    18008.509240  \n",
      "United States          35767.433030    39097.099550    42951.653090  \n",
      "Uruguay                 9230.240708     7727.002004    10611.462990  \n",
      "Venezuela              10165.495180     8605.047831    11415.805690  \n"
     ]
    }
   ],
   "source": [
    "\n",
    "americas = pd.read_csv('python-novice-gapminder-data/data/gapminder_gdp_americas.csv', index_col='country')#si usamos index_col nos va a imprimir los datos usando como referencia los datos en la columna seleccionada en nuestro caso fue country\n",
    "print(americas)"
   ]
  },
  {
   "cell_type": "code",
   "execution_count": 71,
   "id": "a461b2ac-7df2-4738-a427-72c07defcf5f",
   "metadata": {},
   "outputs": [
    {
     "name": "stdout",
     "output_type": "stream",
     "text": [
      "   continent              country  gdpPercap_1952  gdpPercap_1957  \\\n",
      "0   Americas            Argentina     5911.315053     6856.856212   \n",
      "1   Americas              Bolivia     2677.326347     2127.686326   \n",
      "2   Americas               Brazil     2108.944355     2487.365989   \n",
      "3   Americas               Canada    11367.161120    12489.950060   \n",
      "4   Americas                Chile     3939.978789     4315.622723   \n",
      "5   Americas             Colombia     2144.115096     2323.805581   \n",
      "6   Americas           Costa Rica     2627.009471     2990.010802   \n",
      "7   Americas                 Cuba     5586.538780     6092.174359   \n",
      "8   Americas   Dominican Republic     1397.717137     1544.402995   \n",
      "9   Americas              Ecuador     3522.110717     3780.546651   \n",
      "10  Americas          El Salvador     3048.302900     3421.523218   \n",
      "11  Americas            Guatemala     2428.237769     2617.155967   \n",
      "12  Americas                Haiti     1840.366939     1726.887882   \n",
      "13  Americas             Honduras     2194.926204     2220.487682   \n",
      "14  Americas              Jamaica     2898.530881     4756.525781   \n",
      "15  Americas               Mexico     3478.125529     4131.546641   \n",
      "16  Americas            Nicaragua     3112.363948     3457.415947   \n",
      "17  Americas               Panama     2480.380334     2961.800905   \n",
      "18  Americas             Paraguay     1952.308701     2046.154706   \n",
      "19  Americas                 Peru     3758.523437     4245.256698   \n",
      "20  Americas          Puerto Rico     3081.959785     3907.156189   \n",
      "21  Americas  Trinidad and Tobago     3023.271928     4100.393400   \n",
      "22  Americas        United States    13990.482080    14847.127120   \n",
      "23  Americas              Uruguay     5716.766744     6150.772969   \n",
      "24  Americas            Venezuela     7689.799761     9802.466526   \n",
      "\n",
      "    gdpPercap_1962  gdpPercap_1967  gdpPercap_1972  gdpPercap_1977  \\\n",
      "0      7133.166023     8052.953021     9443.038526    10079.026740   \n",
      "1      2180.972546     2586.886053     2980.331339     3548.097832   \n",
      "2      3336.585802     3429.864357     4985.711467     6660.118654   \n",
      "3     13462.485550    16076.588030    18970.570860    22090.883060   \n",
      "4      4519.094331     5106.654313     5494.024437     4756.763836   \n",
      "5      2492.351109     2678.729839     3264.660041     3815.807870   \n",
      "6      3460.937025     4161.727834     5118.146939     5926.876967   \n",
      "7      5180.755910     5690.268015     5305.445256     6380.494966   \n",
      "8      1662.137359     1653.723003     2189.874499     2681.988900   \n",
      "9      4086.114078     4579.074215     5280.994710     6679.623260   \n",
      "10     3776.803627     4358.595393     4520.246008     5138.922374   \n",
      "11     2750.364446     3242.531147     4031.408271     4879.992748   \n",
      "12     1796.589032     1452.057666     1654.456946     1874.298931   \n",
      "13     2291.156835     2538.269358     2529.842345     3203.208066   \n",
      "14     5246.107524     6124.703451     7433.889293     6650.195573   \n",
      "15     4581.609385     5754.733883     6809.406690     7674.929108   \n",
      "16     3634.364406     4643.393534     4688.593267     5486.371089   \n",
      "17     3536.540301     4421.009084     5364.249663     5351.912144   \n",
      "18     2148.027146     2299.376311     2523.337977     3248.373311   \n",
      "19     4957.037982     5788.093330     5937.827283     6281.290855   \n",
      "20     5108.344630     6929.277714     9123.041742     9770.524921   \n",
      "21     4997.523971     5621.368472     6619.551419     7899.554209   \n",
      "22    16173.145860    19530.365570    21806.035940    24072.632130   \n",
      "23     5603.357717     5444.619620     5703.408898     6504.339663   \n",
      "24     8422.974165     9541.474188    10505.259660    13143.950950   \n",
      "\n",
      "    gdpPercap_1982  gdpPercap_1987  gdpPercap_1992  gdpPercap_1997  \\\n",
      "0      8997.897412     9139.671389     9308.418710    10967.281950   \n",
      "1      3156.510452     2753.691490     2961.699694     3326.143191   \n",
      "2      7030.835878     7807.095818     6950.283021     7957.980824   \n",
      "3     22898.792140    26626.515030    26342.884260    28954.925890   \n",
      "4      5095.665738     5547.063754     7596.125964    10118.053180   \n",
      "5      4397.575659     4903.219100     5444.648617     6117.361746   \n",
      "6      5262.734751     5629.915318     6160.416317     6677.045314   \n",
      "7      7316.918107     7532.924763     5592.843963     5431.990415   \n",
      "8      2861.092386     2899.842175     3044.214214     3614.101285   \n",
      "9      7213.791267     6481.776993     7103.702595     7429.455877   \n",
      "10     4098.344175     4140.442097     4444.231700     5154.825496   \n",
      "11     4820.494790     4246.485974     4439.450840     4684.313807   \n",
      "12     2011.159549     1823.015995     1456.309517     1341.726931   \n",
      "13     3121.760794     3023.096699     3081.694603     3160.454906   \n",
      "14     6068.051350     6351.237495     7404.923685     7121.924704   \n",
      "15     9611.147541     8688.156003     9472.384295     9767.297530   \n",
      "16     3470.338156     2955.984375     2170.151724     2253.023004   \n",
      "17     7009.601598     7034.779161     6618.743050     7113.692252   \n",
      "18     4258.503604     3998.875695     4196.411078     4247.400261   \n",
      "19     6434.501797     6360.943444     4446.380924     5838.347657   \n",
      "20    10330.989150    12281.341910    14641.587110    16999.433300   \n",
      "21     9119.528607     7388.597823     7370.990932     8792.573126   \n",
      "22    25009.559140    29884.350410    32003.932240    35767.433030   \n",
      "23     6920.223051     7452.398969     8137.004775     9230.240708   \n",
      "24    11152.410110     9883.584648    10733.926310    10165.495180   \n",
      "\n",
      "    gdpPercap_2002  gdpPercap_2007  \n",
      "0      8797.640716    12779.379640  \n",
      "1      3413.262690     3822.137084  \n",
      "2      8131.212843     9065.800825  \n",
      "3     33328.965070    36319.235010  \n",
      "4     10778.783850    13171.638850  \n",
      "5      5755.259962     7006.580419  \n",
      "6      7723.447195     9645.061420  \n",
      "7      6340.646683     8948.102923  \n",
      "8      4563.808154     6025.374752  \n",
      "9      5773.044512     6873.262326  \n",
      "10     5351.568666     5728.353514  \n",
      "11     4858.347495     5186.050003  \n",
      "12     1270.364932     1201.637154  \n",
      "13     3099.728660     3548.330846  \n",
      "14     6994.774861     7320.880262  \n",
      "15    10742.440530    11977.574960  \n",
      "16     2474.548819     2749.320965  \n",
      "17     7356.031934     9809.185636  \n",
      "18     3783.674243     4172.838464  \n",
      "19     5909.020073     7408.905561  \n",
      "20    18855.606180    19328.709010  \n",
      "21    11460.600230    18008.509240  \n",
      "22    39097.099550    42951.653090  \n",
      "23     7727.002004    10611.462990  \n",
      "24     8605.047831    11415.805690  \n"
     ]
    }
   ],
   "source": [
    "america = pd.read_csv('python-novice-gapminder-data/data/gapminder_gdp_americas.csv')#Si no usamos index_col nos imprime los datos indexando con el número de fila en que se encuentran, lo cual vuelve más complicada su lectura\n",
    "print(america)"
   ]
  },
  {
   "cell_type": "markdown",
   "id": "d84bfa6d-daa9-421e-a8c6-4a89bab84e4b",
   "metadata": {},
   "source": [
    "# Pandas DataFrames"
   ]
  },
  {
   "cell_type": "markdown",
   "id": "3f3dff31-47f1-4f49-9b9a-b4f4a1ff45be",
   "metadata": {},
   "source": [
    "Ejercicio: \n",
    "1. Do the two statements below produce the same output?\n",
    "2. Based on this, what rule governs what is included (or not) in numerical slices and named slices in Pandas?\n",
    "\n",
    "Producen cosas distintas, ya que al introducir números con 0:2 el intervalo queda abierto y no considera aquello que esté en 2, mientras que con el dato contreto del nombre de las columnas 'gdpPercap_1952':'gdpPercap_1962', el intervalo es cerrado y si considera quello que esté en gdpPercap_1962."
   ]
  },
  {
   "cell_type": "code",
   "execution_count": 75,
   "id": "d6a43297-9e1e-4f95-95c4-169a04269931",
   "metadata": {},
   "outputs": [
    {
     "name": "stdout",
     "output_type": "stream",
     "text": [
      "         gdpPercap_1952  gdpPercap_1957\n",
      "country                                \n",
      "Albania     1601.056136     1942.284244\n",
      "Austria     6137.076492     8842.598030\n",
      "         gdpPercap_1952  gdpPercap_1957  gdpPercap_1962\n",
      "country                                                \n",
      "Albania     1601.056136     1942.284244     2312.888958\n",
      "Austria     6137.076492     8842.598030    10750.721110\n",
      "Belgium     8343.105127     9714.960623    10991.206760\n"
     ]
    }
   ],
   "source": [
    "import pandas as pd\n",
    "\n",
    "df = pd.read_csv('python-novice-gapminder-data/data/gapminder_gdp_europe.csv', index_col='country')\n",
    "\n",
    "print(df.iloc[0:2, 0:2])\n",
    "print(df.loc['Albania':'Belgium', 'gdpPercap_1952':'gdpPercap_1962'])"
   ]
  },
  {
   "cell_type": "code",
   "execution_count": null,
   "id": "f9368476-f502-4f1c-952b-7f031aa05ce1",
   "metadata": {},
   "outputs": [],
   "source": [
    "Para obtener lo mismo tenemos que cambiar el intervalo"
   ]
  },
  {
   "cell_type": "code",
   "execution_count": 76,
   "id": "d2c21c84-309b-426b-95fe-2f89cb0eb043",
   "metadata": {},
   "outputs": [
    {
     "name": "stdout",
     "output_type": "stream",
     "text": [
      "         gdpPercap_1952  gdpPercap_1957  gdpPercap_1962\n",
      "country                                                \n",
      "Albania     1601.056136     1942.284244     2312.888958\n",
      "Austria     6137.076492     8842.598030    10750.721110\n",
      "Belgium     8343.105127     9714.960623    10991.206760\n",
      "         gdpPercap_1952  gdpPercap_1957  gdpPercap_1962\n",
      "country                                                \n",
      "Albania     1601.056136     1942.284244     2312.888958\n",
      "Austria     6137.076492     8842.598030    10750.721110\n",
      "Belgium     8343.105127     9714.960623    10991.206760\n"
     ]
    }
   ],
   "source": [
    "print(df.iloc[0:3, 0:3]) #Cambiando el 2 por un 3\n",
    "print(df.loc['Albania':'Belgium', 'gdpPercap_1952':'gdpPercap_1962'])"
   ]
  },
  {
   "cell_type": "markdown",
   "id": "9ce5b0ac-5d1c-4a96-b9b5-2ed0909f4f4f",
   "metadata": {},
   "source": [
    "# Plotting"
   ]
  },
  {
   "cell_type": "markdown",
   "id": "6ba77a17-2be0-4f4c-a468-675a97ebcddb",
   "metadata": {},
   "source": [
    "Ejercicio: Fill in the blanks below to plot the minimum GDP per capita over time for all the countries in Europe. Modify it again to plot the maximum GDP per capita over time for Europe.\n",
    "\n",
    "Se usan las funciones min() y max()"
   ]
  },
  {
   "cell_type": "code",
   "execution_count": 88,
   "id": "3d66ecfe-b979-4604-9411-289172740bb6",
   "metadata": {},
   "outputs": [
    {
     "data": {
      "text/plain": [
       "(array([-2.,  0.,  2.,  4.,  6.,  8., 10., 12.]),\n",
       " [Text(-2.0, 0, 'gdpPercap_2002'),\n",
       "  Text(0.0, 0, 'gdpPercap_1952'),\n",
       "  Text(2.0, 0, 'gdpPercap_1962'),\n",
       "  Text(4.0, 0, 'gdpPercap_1972'),\n",
       "  Text(6.0, 0, 'gdpPercap_1982'),\n",
       "  Text(8.0, 0, 'gdpPercap_1992'),\n",
       "  Text(10.0, 0, 'gdpPercap_2002'),\n",
       "  Text(12.0, 0, '')])"
      ]
     },
     "execution_count": 88,
     "metadata": {},
     "output_type": "execute_result"
    },
    {
     "data": {
      "image/png": "[encoded data removed]",
      "text/plain": [
       "<Figure size 432x288 with 1 Axes>"
      ]
     },
     "metadata": {
      "needs_background": "light"
     },
     "output_type": "display_data"
    }
   ],
   "source": [
    "import matplotlib.pyplot as plt\n",
    "\n",
    "data_europe = pd.read_csv('python-novice-gapminder-data/data/gapminder_gdp_europe.csv', index_col='country')\n",
    "data_europe.min().plot(label='min') #lavel es la etiqueta que pone en el recuadro\n",
    "data_europe.max().plot(label='max')\n",
    "plt.legend(loc='best')\n",
    "plt.xticks(rotation=90)"
   ]
  },
  {
   "cell_type": "markdown",
   "id": "a79965f8-0891-4f8f-becb-7b21edbe8c02",
   "metadata": {},
   "source": [
    "# Lists"
   ]
  },
  {
   "cell_type": "markdown",
   "id": "25e9ac77-7bb6-4f9c-8a11-975faea3a23f",
   "metadata": {
    "tags": []
   },
   "source": [
    "Ejercicio: Fill in the blanks so that the program below produces the output shown.\n",
    "\n",
    "Hacemos a la variable values una lista, después con append le agregamos los valores deseados a dicha lista y los imprimimos, luego le quitamos el primer valor a la lista usando [1:]"
   ]
  },
  {
   "cell_type": "code",
   "execution_count": 97,
   "id": "a5b45231-746f-441f-a1d0-adc2cb2cb32f",
   "metadata": {},
   "outputs": [
    {
     "name": "stdout",
     "output_type": "stream",
     "text": [
      "first time: [1, 3, 5]\n",
      "second time: [3, 5]\n"
     ]
    }
   ],
   "source": [
    "values = []\n",
    "values.append(1)\n",
    "values.append(3)\n",
    "values.append(5)\n",
    "print('first time:', values)\n",
    "values = values[1:]\n",
    "print('second time:', values)\n",
    "\n",
    "#Output\n",
    "#first time: [1, 3, 5]\n",
    "#second time: [3, 5]"
   ]
  },
  {
   "cell_type": "markdown",
   "id": "2d473b6b-fd4a-450f-91e8-9fe1f3c41c26",
   "metadata": {},
   "source": [
    "# For Loops"
   ]
  },
  {
   "cell_type": "markdown",
   "id": "2f7e4d0b-311b-4e87-a36f-d0d5316e6ded",
   "metadata": {},
   "source": [
    "Ejercicio: Fill in the blanks in the program below so that it prints “nit” (the reverse of the original character string “tin”).\n",
    "\n",
    "Hacemos que result sea una variable de tipo string pero que esté vacía, para que al tomar un caracter en la palabra tin le agreguemos el valor de result a la derecha, de modo que valla invirtiendo la palabra"
   ]
  },
  {
   "cell_type": "code",
   "execution_count": 100,
   "id": "c8e18afb-d46c-4867-a7f2-aefb4868948a",
   "metadata": {},
   "outputs": [
    {
     "name": "stdout",
     "output_type": "stream",
     "text": [
      "nit\n"
     ]
    }
   ],
   "source": [
    "original = \"tin\"\n",
    "result = \"\"\n",
    "for char in original:\n",
    "    result = char + result\n",
    "print(result)#Notemos que este print está fuera del for y solo implime el resultado que da al finalizar con el ciclo"
   ]
  },
  {
   "cell_type": "markdown",
   "id": "59b2194b-05cd-44e8-9c9e-1dd06cbbc7f1",
   "metadata": {},
   "source": [
    "# Conditionals"
   ]
  },
  {
   "cell_type": "markdown",
   "id": "218362d9-b6da-4892-b75e-0c3030afa3b0",
   "metadata": {},
   "source": [
    "Ejercicio: Modify this program so that it only processes files with fewer than 50 records.\n",
    "\n",
    "Ponemos un if para que lea la longitud de cada elemento de contents y vea cuales son menores que 50 para así imprimirlos, le pedimos que imprima dentro del if para que imprima todos"
   ]
  },
  {
   "cell_type": "code",
   "execution_count": 101,
   "id": "cf11c554-b3b2-471d-9593-174819c5590c",
   "metadata": {},
   "outputs": [
    {
     "name": "stdout",
     "output_type": "stream",
     "text": [
      "python-novice-gapminder-data/data\\gapminder_gdp_americas.csv 25\n",
      "python-novice-gapminder-data/data\\gapminder_gdp_asia.csv 33\n",
      "python-novice-gapminder-data/data\\gapminder_gdp_europe.csv 30\n",
      "python-novice-gapminder-data/data\\gapminder_gdp_oceania.csv 2\n"
     ]
    }
   ],
   "source": [
    "import glob\n",
    "import pandas as pd\n",
    "for filename in glob.glob('python-novice-gapminder-data/data/*.csv'):\n",
    "    contents = pd.read_csv(filename)\n",
    "    if len(contents) < 50:\n",
    "        print(filename, len(contents))"
   ]
  },
  {
   "cell_type": "markdown",
   "id": "fb145e1f-1337-4ccd-893d-29ef046731e0",
   "metadata": {},
   "source": [
    "# Looping Over Data Sets"
   ]
  },
  {
   "cell_type": "markdown",
   "id": "bfe2cf87-8463-4fb4-a952-9b177c7c4b35",
   "metadata": {},
   "source": [
    "Ejercicio: Modify this program so that it prints the number of records in the file that has the fewest records.\n",
    "\n",
    "Queremos que fewest sea la variable que valla cambiando en el for para encontrar al mínimo, así que necesitamos que sea un valor flotante muy grande para que no cause problemas, haciendolo igual a float('inf') la hacemos una variable no acotada, despues en dataframe leemos el filename en que se encuentre el for y actualizamos fewest como el más pequeño entre el último valor de fewest y dataframe.shape[0]."
   ]
  },
  {
   "cell_type": "code",
   "execution_count": 102,
   "id": "fe7e12f8-217a-4f05-bcfa-1da53708a2ef",
   "metadata": {},
   "outputs": [
    {
     "name": "stdout",
     "output_type": "stream",
     "text": [
      "smallest file has inf records\n"
     ]
    }
   ],
   "source": [
    "import glob\n",
    "import pandas as pd\n",
    "fewest = float('Inf')\n",
    "for filename in glob.glob('python-novice-gapminder-data/data/*.csv'):\n",
    "    dataframe = pd.read_csv(filename)\n",
    "    fewest = min(fewest, dataframe.shape[0])\n",
    "print('smallest file has', fewest, 'records')"
   ]
  },
  {
   "cell_type": "markdown",
   "id": "820af3e3-a25f-4e69-8312-b282fb824359",
   "metadata": {},
   "source": [
    "# Writing Functions"
   ]
  },
  {
   "cell_type": "markdown",
   "id": "5b4b3127-6986-44e5-89a2-de69cc57429f",
   "metadata": {},
   "source": [
    "Ejercicio: Fill in the blanks to create a function that takes a single filename as an argument, loads the data in the file named by the argument, and returns the minimum value in that data.\n",
    "\n",
    "Hacemos que la función reciba filename, hacemos que la variable data lea filename y por último que nos regrese el minimo de data"
   ]
  },
  {
   "cell_type": "code",
   "execution_count": 104,
   "id": "b6d23f3d-73e8-42ac-ade8-d15bc21eaf78",
   "metadata": {},
   "outputs": [],
   "source": [
    "import pandas as pd\n",
    "\n",
    "def min_in_data(filename):\n",
    "    data = pd.read_csv(filename)\n",
    "    return data.min()"
   ]
  }
 ],
 "metadata": {
  "kernelspec": {
   "display_name": "Python 3",
   "language": "python",
   "name": "python3"
  },
  "language_info": {
   "codemirror_mode": {
    "name": "ipython",
    "version": 3
   },
   "file_extension": ".py",
   "mimetype": "text/x-python",
   "name": "python",
   "nbconvert_exporter": "python",
   "pygments_lexer": "ipython3",
   "version": "3.8.8"
  }
 },
 "nbformat": 4,
 "nbformat_minor": 5
}
