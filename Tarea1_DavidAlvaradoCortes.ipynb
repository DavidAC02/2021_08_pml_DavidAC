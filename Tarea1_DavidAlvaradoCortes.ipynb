{
 "cells": [
  {
   "cell_type": "markdown",
   "id": "78e6e408-6f35-4607-9b4e-2a3f89b19d84",
   "metadata": {},
   "source": [
    "# TAREA 1. David Alvarado Cortés"
   ]
  },
  {
   "cell_type": "markdown",
   "id": "2e1e78a9-100f-4c4a-8b41-082cfc009c3c",
   "metadata": {},
   "source": [
    "## Running and Quitting"
   ]
  },
  {
   "cell_type": "markdown",
   "id": "785d9817-dce2-4ef0-a6de-9b5b55813b03",
   "metadata": {},
   "source": [
    "Para escribir comentarios o ttítulos usamos esc+M\n",
    "1.  Get funding.\n",
    "2.  Do work.\n",
    "    *   Design experiment.\n",
    "    *   Collect data.\n",
    "    *   Analyze.\n",
    "3.  Write up.\n",
    "4.  Publish."
   ]
  },
  {
   "cell_type": "code",
   "execution_count": null,
   "id": "4210edc2-138f-462d-b43e-13d80110f768",
   "metadata": {},
   "outputs": [],
   "source": []
  }
 ],
 "metadata": {
  "kernelspec": {
   "display_name": "Python 3",
   "language": "python",
   "name": "python3"
  },
  "language_info": {
   "codemirror_mode": {
    "name": "ipython",
    "version": 3
   },
   "file_extension": ".py",
   "mimetype": "text/x-python",
   "name": "python",
   "nbconvert_exporter": "python",
   "pygments_lexer": "ipython3",
   "version": "3.8.8"
  }
 },
 "nbformat": 4,
 "nbformat_minor": 5
}
