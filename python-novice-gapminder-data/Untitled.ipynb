{
 "cells": [
  {
   "cell_type": "code",
   "execution_count": 1,
   "id": "c3313c18-0aa2-46f3-b5e7-3a0b7cba44b0",
   "metadata": {},
   "outputs": [],
   "source": [
    "bases = 'ACTTGCTTGAC'\n",
    "import linecache as lc"
   ]
  },
  {
   "cell_type": "code",
   "execution_count": 3,
   "id": "ebec4b46-9366-43c1-80d3-ca6444382e9c",
   "metadata": {},
   "outputs": [],
   "source": [
    "import random as r"
   ]
  },
  {
   "cell_type": "code",
   "execution_count": 18,
   "id": "83a0f40a-ef3a-4940-93fc-2826e56d28a8",
   "metadata": {},
   "outputs": [
    {
     "name": "stdout",
     "output_type": "stream",
     "text": [
      "G\n"
     ]
    }
   ],
   "source": [
    "#La funcion choice regresa un elemento random de un asecuencia\n",
    "print(r.choice(bases))\n"
   ]
  },
  {
   "cell_type": "code",
   "execution_count": 19,
   "id": "03dc4dd6-4241-4f18-a42e-521ed58880c2",
   "metadata": {},
   "outputs": [
    {
     "name": "stdout",
     "output_type": "stream",
     "text": [
      "A\n"
     ]
    }
   ],
   "source": [
    "print(r.choice(bases))"
   ]
  },
  {
   "cell_type": "markdown",
   "id": "d98070d8-f934-4851-bf17-ab65f294610f",
   "metadata": {},
   "source": [
    "Soluciones"
   ]
  },
  {
   "cell_type": "code",
   "execution_count": 7,
   "id": "82cb77a1-17f0-4dac-ab78-f8c96c685577",
   "metadata": {},
   "outputs": [
    {
     "name": "stdout",
     "output_type": "stream",
     "text": [
      "T\n"
     ]
    }
   ],
   "source": [
    "#rand\n",
    "random_index = r.randrange(len(bases))\n",
    "print(bases[random_index])"
   ]
  },
  {
   "cell_type": "code",
   "execution_count": 8,
   "id": "72e0aaf0-858e-4650-959a-0d718b152c5d",
   "metadata": {},
   "outputs": [
    {
     "name": "stdout",
     "output_type": "stream",
     "text": [
      "G\n"
     ]
    }
   ],
   "source": [
    "random_index = r.randrange(len(bases))\n",
    "print(bases[random_index])"
   ]
  },
  {
   "cell_type": "code",
   "execution_count": 9,
   "id": "157b02f8-771e-47d1-91be-af195b6174db",
   "metadata": {},
   "outputs": [
    {
     "name": "stdout",
     "output_type": "stream",
     "text": [
      "G\n"
     ]
    }
   ],
   "source": [
    "print(bases[r.randrange(len(bases))])"
   ]
  },
  {
   "cell_type": "code",
   "execution_count": 21,
   "id": "722db5ea-b321-4a34-b840-6804bf412f59",
   "metadata": {},
   "outputs": [
    {
     "name": "stdout",
     "output_type": "stream",
     "text": [
      "A\n"
     ]
    }
   ],
   "source": [
    "print(r.sample(bases, 1)[0])"
   ]
  },
  {
   "cell_type": "markdown",
   "id": "be599e7b-465e-4a3d-9985-3893b771752b",
   "metadata": {},
   "source": [
    "Siguiente Ejercicio"
   ]
  },
  {
   "cell_type": "code",
   "execution_count": 24,
   "id": "9ee1cc11-ff36-4085-955a-814b475457bf",
   "metadata": {},
   "outputs": [
    {
     "name": "stdout",
     "output_type": "stream",
     "text": [
      "random base  T base index 11\n"
     ]
    }
   ],
   "source": [
    "bases=\"ACTTGCTTGAC\"\n",
    "import math\n",
    "import random\n",
    "B = len(bases)\n",
    "n_base=random.randrange(B)\n",
    "#A = random.randrange(bases)\n",
    "le\n",
    "print(\"random base \", bases[A], \"base index\", B)"
   ]
  },
  {
   "cell_type": "code",
   "execution_count": 48,
   "id": "fa4a130f-a0cc-40a3-9104-c2f7045b9ad0",
   "metadata": {},
   "outputs": [
    {
     "name": "stdout",
     "output_type": "stream",
     "text": [
      "random base  T base index 8\n"
     ]
    }
   ],
   "source": [
    "#Solucion de francisco\n",
    "proteina = random.randrange(len(bases))\n",
    "\n",
    "print(\"random base \", bases[proteina], \"base index\", proteina+1)"
   ]
  },
  {
   "cell_type": "code",
   "execution_count": 49,
   "id": "12487f7b-70e6-45a4-ac8e-29ef4fe27dbe",
   "metadata": {},
   "outputs": [
    {
     "name": "stdout",
     "output_type": "stream",
     "text": [
      "random base T base index 6\n"
     ]
    }
   ],
   "source": [
    "#solucion \n",
    "import math \n",
    "import random\n",
    "bases = \"ACTTGCTTGAC\" \n",
    "n_bases = len(bases)\n",
    "idx = random.randrange(n_bases)\n",
    "print(\"random base\", bases[idx], \"base index\", idx)"
   ]
  },
  {
   "cell_type": "code",
   "execution_count": 50,
   "id": "26bb984e-a2d2-4794-b379-74a179f61e3c",
   "metadata": {},
   "outputs": [
    {
     "name": "stdout",
     "output_type": "stream",
     "text": [
      "90.0\n"
     ]
    }
   ],
   "source": [
    "import math as m\n",
    "angle = m.degrees(m.pi / 2)\n",
    "print(angle)"
   ]
  },
  {
   "cell_type": "code",
   "execution_count": null,
   "id": "4d695c01-8783-4a1f-a2d6-7f91b8a4660d",
   "metadata": {},
   "outputs": [],
   "source": []
  },
  {
   "cell_type": "code",
   "execution_count": null,
   "id": "d776d1cb-934e-4ea3-8986-77689d0c7ef7",
   "metadata": {},
   "outputs": [],
   "source": []
  }
 ],
 "metadata": {
  "kernelspec": {
   "display_name": "Python 3",
   "language": "python",
   "name": "python3"
  },
  "language_info": {
   "codemirror_mode": {
    "name": "ipython",
    "version": 3
   },
   "file_extension": ".py",
   "mimetype": "text/x-python",
   "name": "python",
   "nbconvert_exporter": "python",
   "pygments_lexer": "ipython3",
   "version": "3.8.8"
  }
 },
 "nbformat": 4,
 "nbformat_minor": 5
}
